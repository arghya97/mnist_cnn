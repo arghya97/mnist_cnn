{
 "cells": [
  {
   "cell_type": "code",
   "execution_count": 1,
   "metadata": {
    "colab": {
     "base_uri": "https://localhost:8080/",
     "height": 34
    },
    "colab_type": "code",
    "executionInfo": {
     "elapsed": 1795,
     "status": "ok",
     "timestamp": 1554117243145,
     "user": {
      "displayName": "ARGHYADIP MANNA",
      "photoUrl": "https://lh4.googleusercontent.com/-XA8MfXqOzt8/AAAAAAAAAAI/AAAAAAAAADE/vaolkJTvCTI/s64/photo.jpg",
      "userId": "02008354141178514800"
     },
     "user_tz": -330
    },
    "id": "HQLFubzpzoyu",
    "outputId": "843d72e9-cf72-4b6b-ec71-0e464b1f0c14"
   },
   "outputs": [
    {
     "name": "stderr",
     "output_type": "stream",
     "text": [
      "Using TensorFlow backend.\n"
     ]
    }
   ],
   "source": [
    "#importing the libraries\n",
    "import pandas as pd\n",
    "import keras\n",
    "import numpy as np\n",
    "import matplotlib.pyplot as plt\n",
    "%matplotlib inline"
   ]
  },
  {
   "cell_type": "code",
   "execution_count": 0,
   "metadata": {
    "colab": {},
    "colab_type": "code",
    "id": "ugUbbq-qg8ep"
   },
   "outputs": [],
   "source": [
    "path_dir = 'digit-recognizer/'"
   ]
  },
  {
   "cell_type": "code",
   "execution_count": 3,
   "metadata": {
    "colab": {
     "base_uri": "https://localhost:8080/",
     "height": 34
    },
    "colab_type": "code",
    "executionInfo": {
     "elapsed": 5751,
     "status": "ok",
     "timestamp": 1554117251184,
     "user": {
      "displayName": "ARGHYADIP MANNA",
      "photoUrl": "https://lh4.googleusercontent.com/-XA8MfXqOzt8/AAAAAAAAAAI/AAAAAAAAADE/vaolkJTvCTI/s64/photo.jpg",
      "userId": "02008354141178514800"
     },
     "user_tz": -330
    },
    "id": "d1g8FWVzzoy2",
    "outputId": "2a57a669-4149-4e97-8f82-0ed82f286e03"
   },
   "outputs": [
    {
     "name": "stdout",
     "output_type": "stream",
     "text": [
      "size of dataset: (42000, 785)\n"
     ]
    }
   ],
   "source": [
    "#getting the kaggle dataset\n",
    "dataset = pd.read_csv(path_dir+'train.csv')\n",
    "print('size of dataset:',dataset.shape)"
   ]
  },
  {
   "cell_type": "code",
   "execution_count": 0,
   "metadata": {
    "colab": {},
    "colab_type": "code",
    "id": "gPx8oX22zoy5"
   },
   "outputs": [],
   "source": [
    "#preprocessing the dataset\n",
    "from keras.utils import np_utils\n",
    "\n",
    "x_data,y_data = dataset[dataset.columns[1:]],dataset[dataset.columns[0]]\n",
    "x_data = x_data.values.reshape(x_data.shape[0],28,28,1)\n",
    "num_class = len(np.unique(y_data))\n",
    "y_data = np_utils.to_categorical(y_data,num_class)"
   ]
  },
  {
   "cell_type": "code",
   "execution_count": 5,
   "metadata": {
    "colab": {
     "base_uri": "https://localhost:8080/",
     "height": 68
    },
    "colab_type": "code",
    "executionInfo": {
     "elapsed": 1784,
     "status": "ok",
     "timestamp": 1554117253501,
     "user": {
      "displayName": "ARGHYADIP MANNA",
      "photoUrl": "https://lh4.googleusercontent.com/-XA8MfXqOzt8/AAAAAAAAAAI/AAAAAAAAADE/vaolkJTvCTI/s64/photo.jpg",
      "userId": "02008354141178514800"
     },
     "user_tz": -330
    },
    "id": "H-gbdNuEzoy9",
    "outputId": "4673532e-d190-4578-8fcb-022f42d17501"
   },
   "outputs": [
    {
     "name": "stdout",
     "output_type": "stream",
     "text": [
      "training dataset: (28560, 28, 28, 1) (28560, 10)\n",
      "validation dataset: (7140, 28, 28, 1) (7140, 10)\n",
      "test dataset: (6300, 28, 28, 1) (6300, 10)\n"
     ]
    }
   ],
   "source": [
    "#splliting the dataset into train and test data\n",
    "from sklearn.model_selection import train_test_split\n",
    "\n",
    "x_train, x_test, y_train, y_test = train_test_split(x_data, y_data, test_size = 0.15, random_state = 4681)\n",
    "x_train, x_valid, y_train, y_valid = train_test_split(x_train, y_train, test_size = 0.2, random_state = 6534)\n",
    "\n",
    "print('training dataset:',x_train.shape,y_train.shape)\n",
    "print('validation dataset:',x_valid.shape,y_valid.shape)\n",
    "print('test dataset:',x_test.shape,y_test.shape)"
   ]
  },
  {
   "cell_type": "code",
   "execution_count": 6,
   "metadata": {
    "colab": {
     "base_uri": "https://localhost:8080/",
     "height": 336
    },
    "colab_type": "code",
    "executionInfo": {
     "elapsed": 3304,
     "status": "ok",
     "timestamp": 1554117255926,
     "user": {
      "displayName": "ARGHYADIP MANNA",
      "photoUrl": "https://lh4.googleusercontent.com/-XA8MfXqOzt8/AAAAAAAAAAI/AAAAAAAAADE/vaolkJTvCTI/s64/photo.jpg",
      "userId": "02008354141178514800"
     },
     "user_tz": -330
    },
    "id": "1TmHBM1fzoy_",
    "outputId": "a7cc9327-c013-46be-bd96-a173d7b0de04"
   },
   "outputs": [
    {
     "data": {
      "image/png": "[encoded data removed]",
      "text/plain": [
       "<Figure size 1440x360 with 36 Axes>"
      ]
     },
     "metadata": {
      "tags": []
     },
     "output_type": "display_data"
    }
   ],
   "source": [
    "#plotting the dataset\n",
    "fig = plt.figure(figsize=(20,5))\n",
    "for i in range(36):\n",
    "    ax = fig.add_subplot(3, 12, i + 1, xticks=[], yticks=[])\n",
    "    ax.imshow(np.squeeze(x_train[i]))\n",
    "    ax.set_title((np.where(y_train[i] == 1))[0][0])"
   ]
  },
  {
   "cell_type": "code",
   "execution_count": 7,
   "metadata": {
    "colab": {
     "base_uri": "https://localhost:8080/",
     "height": 632
    },
    "colab_type": "code",
    "executionInfo": {
     "elapsed": 2436,
     "status": "ok",
     "timestamp": 1554117255927,
     "user": {
      "displayName": "ARGHYADIP MANNA",
      "photoUrl": "https://lh4.googleusercontent.com/-XA8MfXqOzt8/AAAAAAAAAAI/AAAAAAAAADE/vaolkJTvCTI/s64/photo.jpg",
      "userId": "02008354141178514800"
     },
     "user_tz": -330
    },
    "id": "gEvV8i-uzozG",
    "outputId": "bf03aea6-1496-4cb3-a5df-61ec022adc50"
   },
   "outputs": [
    {
     "name": "stdout",
     "output_type": "stream",
     "text": [
      "WARNING:tensorflow:From /usr/local/lib/python3.6/dist-packages/tensorflow/python/framework/op_def_library.py:263: colocate_with (from tensorflow.python.framework.ops) is deprecated and will be removed in a future version.\n",
      "Instructions for updating:\n",
      "Colocations handled automatically by placer.\n",
      "WARNING:tensorflow:From /usr/local/lib/python3.6/dist-packages/keras/backend/tensorflow_backend.py:3445: calling dropout (from tensorflow.python.ops.nn_ops) with keep_prob is deprecated and will be removed in a future version.\n",
      "Instructions for updating:\n",
      "Please use `rate` instead of `keep_prob`. Rate should be set to `rate = 1 - keep_prob`.\n",
      "_________________________________________________________________\n",
      "Layer (type)                 Output Shape              Param #   \n",
      "=================================================================\n",
      "conv2d_1 (Conv2D)            (None, 24, 24, 32)        832       \n",
      "_________________________________________________________________\n",
      "conv2d_2 (Conv2D)            (None, 20, 20, 32)        25632     \n",
      "_________________________________________________________________\n",
      "max_pooling2d_1 (MaxPooling2 (None, 10, 10, 32)        0         \n",
      "_________________________________________________________________\n",
      "conv2d_3 (Conv2D)            (None, 10, 10, 64)        51264     \n",
      "_________________________________________________________________\n",
      "conv2d_4 (Conv2D)            (None, 10, 10, 64)        102464    \n",
      "_________________________________________________________________\n",
      "max_pooling2d_2 (MaxPooling2 (None, 5, 5, 64)          0         \n",
      "_________________________________________________________________\n",
      "dropout_1 (Dropout)          (None, 5, 5, 64)          0         \n",
      "_________________________________________________________________\n",
      "flatten_1 (Flatten)          (None, 1600)              0         \n",
      "_________________________________________________________________\n",
      "dense_1 (Dense)              (None, 512)               819712    \n",
      "_________________________________________________________________\n",
      "dense_2 (Dense)              (None, 256)               131328    \n",
      "_________________________________________________________________\n",
      "dense_3 (Dense)              (None, 10)                2570      \n",
      "=================================================================\n",
      "Total params: 1,133,802\n",
      "Trainable params: 1,133,802\n",
      "Non-trainable params: 0\n",
      "_________________________________________________________________\n"
     ]
    }
   ],
   "source": [
    "#the model architecture\n",
    "from keras.models import Sequential\n",
    "from keras.layers import Conv2D, MaxPooling2D, Flatten, Dense, Dropout\n",
    "\n",
    "model = Sequential()\n",
    "\n",
    "model.add(Conv2D(filters=32, kernel_size=5, strides = 1,padding='valid',activation='relu',input_shape=(28,28,1)))\n",
    "model.add(Conv2D(filters=32,kernel_size=5, strides = 1,padding='valid',activation='relu'))\n",
    "model.add(MaxPooling2D(pool_size=2))\n",
    "model.add(Conv2D(filters=64, kernel_size=5, strides = 1,padding='same',activation='relu'))\n",
    "model.add(Conv2D(filters=64, kernel_size=5, strides = 1,padding='same',activation='relu'))\n",
    "model.add(MaxPooling2D(pool_size=2))\n",
    "model.add(Dropout(0.2))\n",
    "\n",
    "model.add(Flatten())\n",
    "model.add(Dense(512, activation='relu'))\n",
    "model.add(Dense(256, activation='relu'))\n",
    "model.add(Dense(10, activation='softmax'))\n",
    "\n",
    "model.summary()"
   ]
  },
  {
   "cell_type": "code",
   "execution_count": 0,
   "metadata": {
    "colab": {},
    "colab_type": "code",
    "id": "enorMOwLzozK"
   },
   "outputs": [],
   "source": [
    "#model compilation and adding checkpoint\n",
    "model.compile(loss='categorical_crossentropy', optimizer='adadelta', metrics=['accuracy'])\n",
    "from keras.callbacks import ModelCheckpoint   \n",
    "checkpointer = ModelCheckpoint(filepath=path_dir+'model.weights.best.hdf5', verbose=1, save_best_only=True)"
   ]
  },
  {
   "cell_type": "code",
   "execution_count": 0,
   "metadata": {
    "colab": {},
    "colab_type": "code",
    "id": "xpP6e8SNzozN"
   },
   "outputs": [],
   "source": [
    "#image augmentation\n",
    "from keras.preprocessing.image import ImageDataGenerator\n",
    "datagen = ImageDataGenerator(\n",
    "    width_shift_range=0.1,\n",
    "    height_shift_range=0.1,\n",
    "    horizontal_flip=True)\n",
    "datagen.fit(x_train)"
   ]
  },
  {
   "cell_type": "code",
   "execution_count": 10,
   "metadata": {
    "colab": {
     "base_uri": "https://localhost:8080/",
     "height": 2128
    },
    "colab_type": "code",
    "executionInfo": {
     "elapsed": 263644,
     "status": "ok",
     "timestamp": 1554117522362,
     "user": {
      "displayName": "ARGHYADIP MANNA",
      "photoUrl": "https://lh4.googleusercontent.com/-XA8MfXqOzt8/AAAAAAAAAAI/AAAAAAAAADE/vaolkJTvCTI/s64/photo.jpg",
      "userId": "02008354141178514800"
     },
     "user_tz": -330
    },
    "id": "VO_LtyBwg8e_",
    "outputId": "732c0708-93ba-41e1-f654-a78b1a4a9b67"
   },
   "outputs": [
    {
     "name": "stdout",
     "output_type": "stream",
     "text": [
      "WARNING:tensorflow:From /usr/local/lib/python3.6/dist-packages/tensorflow/python/ops/math_ops.py:3066: to_int32 (from tensorflow.python.ops.math_ops) is deprecated and will be removed in a future version.\n",
      "Instructions for updating:\n",
      "Use tf.cast instead.\n",
      "Epoch 1/30\n",
      "143/142 [==============================] - 11s 76ms/step - loss: 1.4058 - acc: 0.6390 - val_loss: 0.3089 - val_acc: 0.9090\n",
      "\n",
      "Epoch 00001: val_loss improved from inf to 0.30886, saving model to /content/file/My Drive/Colab Notebooks/kaggle/mnist/digit-recognizer/model.weights.best.hdf5\n",
      "Epoch 2/30\n",
      "143/142 [==============================] - 8s 57ms/step - loss: 0.2462 - acc: 0.9240 - val_loss: 0.1360 - val_acc: 0.9601\n",
      "\n",
      "Epoch 00002: val_loss improved from 0.30886 to 0.13601, saving model to /content/file/My Drive/Colab Notebooks/kaggle/mnist/digit-recognizer/model.weights.best.hdf5\n",
      "Epoch 3/30\n",
      "143/142 [==============================] - 9s 60ms/step - loss: 0.1637 - acc: 0.9485 - val_loss: 0.0713 - val_acc: 0.9804\n",
      "\n",
      "Epoch 00003: val_loss improved from 0.13601 to 0.07126, saving model to /content/file/My Drive/Colab Notebooks/kaggle/mnist/digit-recognizer/model.weights.best.hdf5\n",
      "Epoch 4/30\n",
      "143/142 [==============================] - 8s 59ms/step - loss: 0.1243 - acc: 0.9612 - val_loss: 0.0716 - val_acc: 0.9791\n",
      "\n",
      "Epoch 00004: val_loss did not improve from 0.07126\n",
      "Epoch 5/30\n",
      "143/142 [==============================] - 8s 59ms/step - loss: 0.1040 - acc: 0.9681 - val_loss: 0.0719 - val_acc: 0.9790\n",
      "\n",
      "Epoch 00005: val_loss did not improve from 0.07126\n",
      "Epoch 6/30\n",
      "143/142 [==============================] - 9s 61ms/step - loss: 0.0946 - acc: 0.9712 - val_loss: 0.0796 - val_acc: 0.9735\n",
      "\n",
      "Epoch 00006: val_loss did not improve from 0.07126\n",
      "Epoch 7/30\n",
      "143/142 [==============================] - 8s 59ms/step - loss: 0.0850 - acc: 0.9739 - val_loss: 0.0545 - val_acc: 0.9826\n",
      "\n",
      "Epoch 00007: val_loss improved from 0.07126 to 0.05455, saving model to /content/file/My Drive/Colab Notebooks/kaggle/mnist/digit-recognizer/model.weights.best.hdf5\n",
      "Epoch 8/30\n",
      "143/142 [==============================] - 8s 58ms/step - loss: 0.0781 - acc: 0.9769 - val_loss: 0.0625 - val_acc: 0.9832\n",
      "\n",
      "Epoch 00008: val_loss did not improve from 0.05455\n",
      "Epoch 9/30\n",
      "143/142 [==============================] - 8s 59ms/step - loss: 0.0725 - acc: 0.9774 - val_loss: 0.0532 - val_acc: 0.9850\n",
      "\n",
      "Epoch 00009: val_loss improved from 0.05455 to 0.05322, saving model to /content/file/My Drive/Colab Notebooks/kaggle/mnist/digit-recognizer/model.weights.best.hdf5\n",
      "Epoch 10/30\n",
      "143/142 [==============================] - 8s 59ms/step - loss: 0.0664 - acc: 0.9794 - val_loss: 0.1098 - val_acc: 0.9690\n",
      "\n",
      "Epoch 00010: val_loss did not improve from 0.05322\n",
      "Epoch 11/30\n",
      "143/142 [==============================] - 9s 60ms/step - loss: 0.0619 - acc: 0.9806 - val_loss: 0.0576 - val_acc: 0.9836\n",
      "\n",
      "Epoch 00011: val_loss did not improve from 0.05322\n",
      "Epoch 12/30\n",
      "143/142 [==============================] - 9s 60ms/step - loss: 0.0602 - acc: 0.9815 - val_loss: 0.0562 - val_acc: 0.9845\n",
      "\n",
      "Epoch 00012: val_loss did not improve from 0.05322\n",
      "Epoch 13/30\n",
      "143/142 [==============================] - 8s 59ms/step - loss: 0.0573 - acc: 0.9818 - val_loss: 0.0642 - val_acc: 0.9822\n",
      "\n",
      "Epoch 00013: val_loss did not improve from 0.05322\n",
      "Epoch 14/30\n",
      "143/142 [==============================] - 8s 59ms/step - loss: 0.0566 - acc: 0.9819 - val_loss: 0.0594 - val_acc: 0.9843\n",
      "\n",
      "Epoch 00014: val_loss did not improve from 0.05322\n",
      "Epoch 15/30\n",
      "143/142 [==============================] - 8s 59ms/step - loss: 0.0527 - acc: 0.9841 - val_loss: 0.0441 - val_acc: 0.9882\n",
      "\n",
      "Epoch 00015: val_loss improved from 0.05322 to 0.04408, saving model to /content/file/My Drive/Colab Notebooks/kaggle/mnist/digit-recognizer/model.weights.best.hdf5\n",
      "Epoch 16/30\n",
      "143/142 [==============================] - 8s 59ms/step - loss: 0.0481 - acc: 0.9844 - val_loss: 0.0585 - val_acc: 0.9828\n",
      "\n",
      "Epoch 00016: val_loss did not improve from 0.04408\n",
      "Epoch 17/30\n",
      "143/142 [==============================] - 9s 62ms/step - loss: 0.0508 - acc: 0.9843 - val_loss: 0.0430 - val_acc: 0.9867\n",
      "\n",
      "Epoch 00017: val_loss improved from 0.04408 to 0.04302, saving model to /content/file/My Drive/Colab Notebooks/kaggle/mnist/digit-recognizer/model.weights.best.hdf5\n",
      "Epoch 18/30\n",
      "143/142 [==============================] - 9s 60ms/step - loss: 0.0457 - acc: 0.9851 - val_loss: 0.0624 - val_acc: 0.9847\n",
      "\n",
      "Epoch 00018: val_loss did not improve from 0.04302\n",
      "Epoch 19/30\n",
      "143/142 [==============================] - 9s 60ms/step - loss: 0.0468 - acc: 0.9848 - val_loss: 0.0641 - val_acc: 0.9845\n",
      "\n",
      "Epoch 00019: val_loss did not improve from 0.04302\n",
      "Epoch 20/30\n",
      "143/142 [==============================] - 8s 59ms/step - loss: 0.0443 - acc: 0.9860 - val_loss: 0.0474 - val_acc: 0.9864\n",
      "\n",
      "Epoch 00020: val_loss did not improve from 0.04302\n",
      "Epoch 21/30\n",
      "143/142 [==============================] - 9s 60ms/step - loss: 0.0407 - acc: 0.9871 - val_loss: 0.0470 - val_acc: 0.9894\n",
      "\n",
      "Epoch 00021: val_loss did not improve from 0.04302\n",
      "Epoch 22/30\n",
      "143/142 [==============================] - 9s 61ms/step - loss: 0.0406 - acc: 0.9871 - val_loss: 0.0502 - val_acc: 0.9878\n",
      "\n",
      "Epoch 00022: val_loss did not improve from 0.04302\n",
      "Epoch 23/30\n",
      "143/142 [==============================] - 9s 60ms/step - loss: 0.0408 - acc: 0.9870 - val_loss: 0.0547 - val_acc: 0.9873\n",
      "\n",
      "Epoch 00023: val_loss did not improve from 0.04302\n",
      "Epoch 24/30\n",
      "143/142 [==============================] - 9s 60ms/step - loss: 0.0393 - acc: 0.9870 - val_loss: 0.0493 - val_acc: 0.9864\n",
      "\n",
      "Epoch 00024: val_loss did not improve from 0.04302\n",
      "Epoch 25/30\n",
      "143/142 [==============================] - 9s 60ms/step - loss: 0.0412 - acc: 0.9866 - val_loss: 0.0443 - val_acc: 0.9882\n",
      "\n",
      "Epoch 00025: val_loss did not improve from 0.04302\n",
      "Epoch 26/30\n",
      "143/142 [==============================] - 8s 59ms/step - loss: 0.0374 - acc: 0.9879 - val_loss: 0.0578 - val_acc: 0.9860\n",
      "\n",
      "Epoch 00026: val_loss did not improve from 0.04302\n",
      "Epoch 27/30\n",
      "143/142 [==============================] - 8s 59ms/step - loss: 0.0384 - acc: 0.9881 - val_loss: 0.0480 - val_acc: 0.9873\n",
      "\n",
      "Epoch 00027: val_loss did not improve from 0.04302\n",
      "Epoch 28/30\n",
      "143/142 [==============================] - 8s 59ms/step - loss: 0.0349 - acc: 0.9888 - val_loss: 0.0406 - val_acc: 0.9895\n",
      "\n",
      "Epoch 00028: val_loss improved from 0.04302 to 0.04065, saving model to /content/file/My Drive/Colab Notebooks/kaggle/mnist/digit-recognizer/model.weights.best.hdf5\n",
      "Epoch 29/30\n",
      "143/142 [==============================] - 8s 59ms/step - loss: 0.0363 - acc: 0.9883 - val_loss: 0.0428 - val_acc: 0.9881\n",
      "\n",
      "Epoch 00029: val_loss did not improve from 0.04065\n",
      "Epoch 30/30\n",
      "143/142 [==============================] - 8s 59ms/step - loss: 0.0340 - acc: 0.9887 - val_loss: 0.0498 - val_acc: 0.9878\n",
      "\n",
      "Epoch 00030: val_loss did not improve from 0.04065\n"
     ]
    }
   ],
   "source": [
    "#training the model\n",
    "epochs = 30\n",
    "batch = 200\n",
    "hist = model.fit_generator(datagen.flow(x_train, y_train, batch_size=batch),\n",
    "                    steps_per_epoch=x_train.shape[0] / batch, epochs=epochs,\n",
    "                   validation_data=(x_valid, y_valid)\n",
    "                    ,validation_steps=x_valid.shape[0], \n",
    "          callbacks=[checkpointer])"
   ]
  },
  {
   "cell_type": "code",
   "execution_count": 11,
   "metadata": {
    "colab": {
     "base_uri": "https://localhost:8080/",
     "height": 51
    },
    "colab_type": "code",
    "executionInfo": {
     "elapsed": 2785,
     "status": "ok",
     "timestamp": 1554117622944,
     "user": {
      "displayName": "ARGHYADIP MANNA",
      "photoUrl": "https://lh4.googleusercontent.com/-XA8MfXqOzt8/AAAAAAAAAAI/AAAAAAAAADE/vaolkJTvCTI/s64/photo.jpg",
      "userId": "02008354141178514800"
     },
     "user_tz": -330
    },
    "id": "z5msMxxbzozR",
    "outputId": "47995e13-82eb-4f6d-8d9b-da182866b899"
   },
   "outputs": [
    {
     "name": "stdout",
     "output_type": "stream",
     "text": [
      "\n",
      " Test accuracy: 0.9907936507936508\n"
     ]
    }
   ],
   "source": [
    "#load best weights and predict\n",
    "model.load_weights(path_dir+'model.weights.best.hdf5')\n",
    "score = model.evaluate(x_test, y_test, verbose=0)\n",
    "print('\\n', 'Test accuracy:', score[1])"
   ]
  },
  {
   "cell_type": "code",
   "execution_count": 12,
   "metadata": {
    "colab": {
     "base_uri": "https://localhost:8080/",
     "height": 353
    },
    "colab_type": "code",
    "executionInfo": {
     "elapsed": 4279,
     "status": "ok",
     "timestamp": 1554117634215,
     "user": {
      "displayName": "ARGHYADIP MANNA",
      "photoUrl": "https://lh4.googleusercontent.com/-XA8MfXqOzt8/AAAAAAAAAAI/AAAAAAAAADE/vaolkJTvCTI/s64/photo.jpg",
      "userId": "02008354141178514800"
     },
     "user_tz": -330
    },
    "id": "QJ-Ob8nYg8fJ",
    "outputId": "9d940ed7-c2f1-4d18-a3bf-37dc26515fcb"
   },
   "outputs": [
    {
     "name": "stdout",
     "output_type": "stream",
     "text": [
      "L : Given Label, P : Predicted Label\n"
     ]
    },
    {
     "data": {
      "image/png": "[encoded data removed]",
      "text/plain": [
       "<Figure size 1440x360 with 36 Axes>"
      ]
     },
     "metadata": {
      "tags": []
     },
     "output_type": "display_data"
    }
   ],
   "source": [
    "#plotting the wrong classified points\n",
    "pred = model.predict_classes(x_test)\n",
    "res = pred==y_test.argmax(1)\n",
    "wrong_index = np.where(res == 0)[0]\n",
    "\n",
    "print('L : Given Label, P : Predicted Label')\n",
    "fig = plt.figure(figsize=(20,5))\n",
    "for i in range(36):\n",
    "    j = wrong_index[i]\n",
    "    ax = fig.add_subplot(3, 12, i + 1, xticks=[], yticks=[])\n",
    "    ax.imshow(np.squeeze(x_test[j]))\n",
    "    ax.set_title('L:{}, P:{}'.format(np.where(y_test[j] == 1)[0][0],pred[j]))"
   ]
  },
  {
   "cell_type": "code",
   "execution_count": 0,
   "metadata": {
    "colab": {},
    "colab_type": "code",
    "id": "ULgUB_Vm8vxt"
   },
   "outputs": [],
   "source": [
    "#load the test data\n",
    "sub_data = pd.read_csv(path_dir+'test.csv')\n",
    "sub_data = sub_data.values.reshape(sub_data.shape[0],28,28,1)"
   ]
  },
  {
   "cell_type": "code",
   "execution_count": 14,
   "metadata": {
    "colab": {
     "base_uri": "https://localhost:8080/",
     "height": 321
    },
    "colab_type": "code",
    "executionInfo": {
     "elapsed": 2958,
     "status": "ok",
     "timestamp": 1554117662857,
     "user": {
      "displayName": "ARGHYADIP MANNA",
      "photoUrl": "https://lh4.googleusercontent.com/-XA8MfXqOzt8/AAAAAAAAAAI/AAAAAAAAADE/vaolkJTvCTI/s64/photo.jpg",
      "userId": "02008354141178514800"
     },
     "user_tz": -330
    },
    "id": "MgEnR_Dg8vxw",
    "outputId": "dfec21e1-e64b-4c3a-82a9-66407dc0fc37"
   },
   "outputs": [
    {
     "data": {
      "image/png": "[encoded data removed]",
      "text/plain": [
       "<Figure size 1440x360 with 36 Axes>"
      ]
     },
     "metadata": {
      "tags": []
     },
     "output_type": "display_data"
    }
   ],
   "source": [
    "#plot the test data\n",
    "fig = plt.figure(figsize=(20,5))\n",
    "for i in range(36):\n",
    "    ax = fig.add_subplot(3, 12, i + 1, xticks=[], yticks=[])\n",
    "    ax.imshow(np.squeeze(sub_data[i]))"
   ]
  },
  {
   "cell_type": "code",
   "execution_count": 0,
   "metadata": {
    "colab": {},
    "colab_type": "code",
    "id": "C6_Kq7264GsQ"
   },
   "outputs": [],
   "source": [
    "#predict for the test dataset\n",
    "pred = model.predict_classes(sub_data)"
   ]
  },
  {
   "cell_type": "code",
   "execution_count": 0,
   "metadata": {
    "colab": {},
    "colab_type": "code",
    "id": "NJhyW5hi4KFP"
   },
   "outputs": [],
   "source": [
    "#generate the final prediction file\n",
    "l = []\n",
    "for i in range(len(pred)):\n",
    "    f = {}\n",
    "    f['ImageId'] = i+1\n",
    "    f['Label'] = pred[i]\n",
    "    l.append(f)\n",
    "pd.DataFrame(l).to_csv(path_dir+'prediction.csv',index = False)"
   ]
  },
  {
   "cell_type": "code",
   "execution_count": 0,
   "metadata": {
    "colab": {},
    "colab_type": "code",
    "id": "zZjZx24s_88J"
   },
   "outputs": [],
   "source": []
  }
 ],
 "metadata": {
  "accelerator": "GPU",
  "colab": {
   "collapsed_sections": [],
   "name": "mnist_cnn.ipynb",
   "provenance": [],
   "version": "0.3.2"
  },
  "kernelspec": {
   "display_name": "Python 3",
   "language": "python",
   "name": "python3"
  },
  "language_info": {
   "codemirror_mode": {
    "name": "ipython",
    "version": 3
   },
   "file_extension": ".py",
   "mimetype": "text/x-python",
   "name": "python",
   "nbconvert_exporter": "python",
   "pygments_lexer": "ipython3",
   "version": "3.6.8"
  }
 },
 "nbformat": 4,
 "nbformat_minor": 1
}
